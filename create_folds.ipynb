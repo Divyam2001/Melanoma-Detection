{
 "cells": [
  {
   "cell_type": "code",
   "execution_count": 1,
   "metadata": {},
   "outputs": [],
   "source": [
    "import os\n",
    "import pandas as pd\n",
    "from sklearn import model_selection"
   ]
  },
  {
   "cell_type": "code",
   "execution_count": 2,
   "metadata": {},
   "outputs": [],
   "source": [
    "if __name__ == \"__main__\":\n",
    "    input_path = \"/home/divyam/Downloads\"\n",
    "    df = pd.read_csv(os.path.join(input_path, \"train.csv\"))\n",
    "    df[\"kfold\"] = -1    \n",
    "    df = df.sample(frac=1).reset_index(drop=True)\n",
    "    y = df.target.values\n",
    "    kf = model_selection.StratifiedKFold(n_splits=10)\n",
    "    for fold_, (t_, v_) in enumerate(kf.split(X=df, y=y)):\n",
    "        df.loc[v_, \"kfold\"] = fold_\n",
    "    df.to_csv(os.path.join(input_path, \"train_folds.csv\"), index = False)"
   ]
  },
  {
   "cell_type": "code",
   "execution_count": null,
   "metadata": {},
   "outputs": [],
   "source": []
  },
  {
   "cell_type": "code",
   "execution_count": null,
   "metadata": {},
   "outputs": [],
   "source": []
  }
 ],
 "metadata": {
  "kernelspec": {
   "display_name": "Python 3",
   "language": "python",
   "name": "python3"
  },
  "language_info": {
   "codemirror_mode": {
    "name": "ipython",
    "version": 3
   },
   "file_extension": ".py",
   "mimetype": "text/x-python",
   "name": "python",
   "nbconvert_exporter": "python",
   "pygments_lexer": "ipython3",
   "version": "3.7.6"
  }
 },
 "nbformat": 4,
 "nbformat_minor": 4
}
